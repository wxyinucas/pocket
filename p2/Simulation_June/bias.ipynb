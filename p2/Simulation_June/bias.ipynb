{
 "cells": [
  {
   "cell_type": "markdown",
   "metadata": {
    "toc": true
   },
   "source": [
    "<h1>Table of Contents<span class=\"tocSkip\"></span></h1>\n",
    "<div class=\"toc\"><ul class=\"toc-item\"><li><span><a href=\"#Main()\" data-toc-modified-id=\"Main()-1\"><span class=\"toc-item-num\">1&nbsp;&nbsp;</span>Main()</a></span></li><li><span><a href=\"#源码-Part-1\" data-toc-modified-id=\"源码-Part-1-2\"><span class=\"toc-item-num\">2&nbsp;&nbsp;</span>源码 Part 1</a></span></li></ul></div>"
   ]
  },
  {
   "cell_type": "markdown",
   "metadata": {},
   "source": [
    "## Main()"
   ]
  },
  {
   "cell_type": "code",
   "execution_count": 8,
   "metadata": {},
   "outputs": [
    {
     "name": "stdout",
     "output_type": "stream",
     "text": [
      "The autoreload extension is already loaded. To reload it, use:\n",
      "  %reload_ext autoreload\n"
     ]
    }
   ],
   "source": [
    "import numpy as np\n",
    "import pandas as pd\n",
    "from scipy.optimize import fsolve\n",
    "\n",
    "# from generator_file import *\n",
    "from functions import *\n",
    "import generator_file\n",
    "\n",
    "%load_ext autoreload\n",
    "%autoreload 2"
   ]
  },
  {
   "cell_type": "markdown",
   "metadata": {},
   "source": [
    "`Main()`"
   ]
  },
  {
   "cell_type": "code",
   "execution_count": null,
   "metadata": {},
   "outputs": [],
   "source": [
    "\n",
    "\n",
    "# 载入原始数据 & 计算 df_star\n",
    "df, r, df_star, r_star = preprocess()\n",
    "\n",
    "# 处理数据，得到 Lambda_star & mu_z\n",
    "# lambda_star = compute_lambda_star()\n",
    "# mu_z = compute mu_z()\n",
    "# 解方程得到估计值\n",
    "alpha_hat = solve(s_n)\n",
    "\n",
    "\n",
    "\n",
    "# 带入估计值算 z_i\n",
    "# z = compute_z()\n",
    "# 解方程得到估计值\n",
    "beta_hat = solve(u_n)\n",
    "\n"
   ]
  },
  {
   "cell_type": "markdown",
   "metadata": {},
   "source": [
    "----\n",
    "\n",
    "## 源码 Part 1"
   ]
  },
  {
   "cell_type": "code",
   "execution_count": null,
   "metadata": {},
   "outputs": [],
   "source": [
    "def preprocess(a):\n",
    "    '''\n",
    "    a: estimate parameter\n",
    "    '''\n",
    "    global df, r, df_star, r_star\n",
    "    \n",
    "    df ,r = generator()\n",
    "    \n",
    "    # 乘法因子\n",
    "    e_star = np.exp(np.array([df.x1, df.x2]).T @ a)\n",
    "    \n",
    "    # justify df^*\n",
    "    df_star = df.copy()\n",
    "    df_star.y = df.y * e_star\n",
    "    df_star.c = df.c * e_star\n",
    "    df_star.d = df.d * e_star\n",
    "\n",
    "    # {t_ij^*(a)}\n",
    "    r_star = r * e_star\n",
    "    \n",
    "#     return df, r, df_star, r_star\n",
    "    \n",
    "\n",
    "def compute_lambda(a):\n",
    "    '''\n",
    "    a: estimate parameter\n",
    "    '''\n",
    "    global lambda_a\n",
    "    \n",
    "    # N\n",
    "    N = np.sum(df.m)\n",
    "\n",
    "    # Next to sort {sl}\n",
    "    sl = flatten(r_star)\n",
    "\n",
    "    # {rl}\n",
    "    compare = df_star.y.values.reshape((1, -1)) < sl.reshape((-1, 1))\n",
    "    rl = np.arange(N) + 1 - compare @ df.m.values + 0.05\n",
    "\n",
    "    # index\n",
    "    index = np.sum((1 - compare).T, axis=1)\n",
    "\n",
    "    # vector {\\hat{\\Lambda}_n}\n",
    "    factor = 1 - 1 / rl\n",
    "    factor = np.append(factor, 1)\n",
    "    lambda_ = np.cumprod(factor[::-1])[::-1]\n",
    "\n",
    "    # vector{\\lambda(Y^*(a))}\n",
    "    lambda_a = lambda_[[index]]\n",
    "\n",
    "\n",
    "def compute_mu(a):\n",
    "    global mu_z\n",
    "    \n",
    "    mu_z = df_star.m @ (1/lambda_a) /size\n",
    "    \n",
    "    \n",
    "def s_n(a):\n",
    "    \n",
    "    preprocess(a)\n",
    "    compute_lambda(a)\n",
    "    compute_mu(a)\n",
    "    result = [df.x1.values @ (df.m / lambda_a - mu_z).values, df.x2.values @ (df.m / lambda_a - mu_z).values]\n",
    "    return np.array(result) / size"
   ]
  },
  {
   "cell_type": "code",
   "execution_count": null,
   "metadata": {},
   "outputs": [],
   "source": [
    "size = 200\n",
    "a = np.array([-1, 1]) # for test\n",
    "# preprocess(a)\n",
    "# mu_z(a)\n",
    "s_n(a)"
   ]
  },
  {
   "cell_type": "markdown",
   "metadata": {},
   "source": [
    "----"
   ]
  },
  {
   "cell_type": "code",
   "execution_count": null,
   "metadata": {},
   "outputs": [],
   "source": [
    "a_hat = np.array([0, 0])\n",
    "size = 200\n",
    "\n",
    "for _ in range(50):\n",
    "#     print(fsolve(s_n, [-1, 1]))\n",
    "    a_hat = np.append(a_hat, np.array(fsolve(s_n, [-1, 1])))\n",
    "a_hat = a_hat[2::]"
   ]
  },
  {
   "cell_type": "code",
   "execution_count": null,
   "metadata": {},
   "outputs": [],
   "source": [
    "aaa = a_hat.reshape([-1, 2])\n",
    "print(np.mean(aaa, axis=0))"
   ]
  },
  {
   "cell_type": "code",
   "execution_count": null,
   "metadata": {},
   "outputs": [],
   "source": []
  }
 ],
 "metadata": {
  "kernelspec": {
   "display_name": "Python 3",
   "language": "python",
   "name": "python3"
  },
  "language_info": {
   "codemirror_mode": {
    "name": "ipython",
    "version": 3
   },
   "file_extension": ".py",
   "mimetype": "text/x-python",
   "name": "python",
   "nbconvert_exporter": "python",
   "pygments_lexer": "ipython3",
   "version": "3.6.5"
  },
  "toc": {
   "base_numbering": 1,
   "nav_menu": {},
   "number_sections": true,
   "sideBar": true,
   "skip_h1_title": false,
   "title_cell": "Table of Contents",
   "title_sidebar": "Contents",
   "toc_cell": true,
   "toc_position": {},
   "toc_section_display": true,
   "toc_window_display": false
  },
  "varInspector": {
   "cols": {
    "lenName": 16,
    "lenType": 16,
    "lenVar": 40
   },
   "kernels_config": {
    "python": {
     "delete_cmd_postfix": "",
     "delete_cmd_prefix": "del ",
     "library": "var_list.py",
     "varRefreshCmd": "print(var_dic_list())"
    },
    "r": {
     "delete_cmd_postfix": ") ",
     "delete_cmd_prefix": "rm(",
     "library": "var_list.r",
     "varRefreshCmd": "cat(var_dic_list()) "
    }
   },
   "types_to_exclude": [
    "module",
    "function",
    "builtin_function_or_method",
    "instance",
    "_Feature"
   ],
   "window_display": false
  }
 },
 "nbformat": 4,
 "nbformat_minor": 2
}
